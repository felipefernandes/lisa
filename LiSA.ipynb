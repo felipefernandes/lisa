{
  "nbformat": 4,
  "nbformat_minor": 0,
  "metadata": {
    "colab": {
      "provenance": [],
      "authorship_tag": "ABX9TyPZdQgjA2vpmRCPigDaqz+8",
      "include_colab_link": true
    },
    "kernelspec": {
      "name": "python3",
      "display_name": "Python 3"
    },
    "language_info": {
      "name": "python"
    }
  },
  "cells": [
    {
      "cell_type": "markdown",
      "metadata": {
        "id": "view-in-github",
        "colab_type": "text"
      },
      "source": [
        "<a href=\"https://colab.research.google.com/github/felipefernandes/lisa/blob/main/LiSA.ipynb\" target=\"_parent\"><img src=\"https://colab.research.google.com/assets/colab-badge.svg\" alt=\"Open In Colab\"/></a>"
      ]
    },
    {
      "cell_type": "code",
      "execution_count": 2,
      "metadata": {
        "id": "wSN_aaruIpsk"
      },
      "outputs": [],
      "source": [
        "!pip install -q -U google-generativeai\n",
        "!pip install -q -U pathlib"
      ]
    },
    {
      "cell_type": "code",
      "source": [
        "import pathlib\n",
        "import hashlib\n",
        "import google.generativeai as genai\n",
        "from google.colab import userdata, drive\n",
        "import pandas as pd\n",
        "import numpy as np\n",
        "from IPython.display import display\n",
        "from IPython.display import Markdown"
      ],
      "metadata": {
        "id": "WJ8xaTlGJFfo"
      },
      "execution_count": 3,
      "outputs": []
    },
    {
      "cell_type": "code",
      "source": [
        "# Configuração do GenerativeAI\n",
        "GOOGLE_API_KEY = userdata.get('GEMINIKEY')\n",
        "genai.configure(api_key=GOOGLE_API_KEY)"
      ],
      "metadata": {
        "id": "jRlmthAkKgYN"
      },
      "execution_count": 4,
      "outputs": []
    },
    {
      "cell_type": "code",
      "source": [
        "# Listando modelos disponíveis\n",
        "for m in genai.list_models():\n",
        "  if 'embedContent' in m.supported_generation_methods:\n",
        "    print(m.name)"
      ],
      "metadata": {
        "colab": {
          "base_uri": "https://localhost:8080/",
          "height": 54
        },
        "id": "kRHd9XA4KWOu",
        "outputId": "4b664793-4c07-4883-f210-5083409ddfec"
      },
      "execution_count": 11,
      "outputs": [
        {
          "output_type": "stream",
          "name": "stdout",
          "text": [
            "models/embedding-001\n",
            "models/text-embedding-004\n"
          ]
        }
      ]
    },
    {
      "cell_type": "code",
      "source": [
        "# Documentos\n",
        "\n",
        "estruturas = [\n",
        "    {\"nome\": \"Impromptu Networking\", \"duracao\": \"5-20 min\", \"proposito\": \"Compartilhe rapidamente os desafios e as expectativas, crie novas conexões\", \"label\": \"Disseminar\"},\n",
        "    {\"nome\": \"9 Whys\", \"duracao\": \"5-20 min\", \"proposito\": \"Torne claro o propósito do trabalho juntos\", \"label\": \"Analisar\"},\n",
        "    {\"nome\": \"What, So What, Now What\", \"duracao\": \"15-45 min\", \"proposito\": \"Analisar juntos o progresso até então e decidir quais ajustes são necessários\", \"label\": \"Analisar\"},\n",
        "    {\"nome\": \"TRIZ\", \"duracao\": \"30-45 min\", \"proposito\": \"Pare atividades e comportamentos contraproducentes para abrir espaço para a inovação\", \"label\": \"Revelar\"},\n",
        "    {\"nome\": \"Appreciative Interviews\", \"duracao\": \"30-60 min\", \"proposito\": \"Descobrindo e aproveitando as causas-raiz do sucesso\", \"label\": \"Revelar, Disseminar\"},\n",
        "    {\"nome\": \"1-2-4-All\", \"duracao\": \"10-12 min\", \"proposito\": \"Engage todos simultaneamente na geração de perguntas, ideias e sugestões.\", \"label\": \"Revelar\"},\n",
        "    {\"nome\": \"User Experience Fishbowl\", \"duracao\": \"25-70 min\", \"proposito\": \"Compartilhe com uma comunidade maior a capacidade obtida a partir da experiência\", \"label\": \"Disseminar\"},\n",
        "    {\"nome\": \"15% Solutions\", \"duracao\": \"15-20 min\", \"proposito\": \"Descubra e concentre-se no que cada pessoa tem a liberdade e os recursos para fazer agora\", \"label\": \"Revelar\"},\n",
        "    {\"nome\": \"25-to-10 Crowdsourcing\", \"duracao\": \"20-30 min\", \"proposito\": \"Gerar e analisar rapidamente as ideias factíveis mais poderosas de um grupo\", \"label\": \"Revelar\"},\n",
        "    { \"nome\": \"Troika Consulting\", \"duracao\": \"15-30 min\", \"proposito\": \"Obtenha ajuda prática e criativa dos colegas imediatamente\", \"label\": \"Ajuda, Revelar\"},\n",
        "    { \"nome\": \"Conversation Café\", \"duracao\": \"35-60 min\", \"proposito\": \"Engage todos na compreensão de grandes desafios\", \"label\": \"Disseminar\"},\n",
        "    { \"nome\": \"Min Specs\", \"duracao\": \"20-50 min\", \"proposito\": \"Especifique apenas os absolutos “Devemos” e “Não Devemos” para alcançar um propósito\", \"label\": \"Estratégia\"},\n",
        "    { \"nome\": \"Wise Crowds\", \"duracao\": \"10-60 min. per person\", \"proposito\": \"Acesse a sabedoria do grupo inteiro em ciclos rápidos\", \"label\": \"Ajuda, Revelar\"},\n",
        "    { \"nome\": \"Wicked Questions\", \"duracao\": \"20 min\", \"proposito\": \"Articule os desafios paradoxais que um grupo deve enfrentar para ter sucesso\", \"label\": \"Revelar\"},\n",
        "    { \"nome\": \"Drawing Together\", \"duracao\": \"30-40 min\", \"proposito\": \"Revele ideias e caminhos para avançar através da expressão não-verbal\", \"label\": \"Revelar\"},\n",
        "    { \"nome\": \"Improv Prototyping\", \"duracao\": \"15-20 min. per round\", \"proposito\": \"Desenvolva soluções eficazes para desafios crônicos, enquanto se diverte seriamente\", \"label\": \"Revelar\"},\n",
        "    { \"nome\": \"Agreement-Certainty Matrix\", \"duracao\": \"30-45 min\", \"proposito\": \"Classifique os desafios nos domínios simples, complicado, complexo e caótico\", \"label\": \"Análise\"},\n",
        "    { \"nome\": \"Shift & Share\", \"duracao\": \"35-90 min\", \"proposito\": \"Dissemine boas ideias e faça conexões informais com inovadores\", \"label\": \"Disseminar\"},\n",
        "    { \"nome\": \"Heard, Seen, Respected\", \"duracao\": \"25 min\", \"proposito\": \"Pratique a escuta profunda e empatia com colegas\", \"label\": \"Ajuda\"},\n",
        "    { \"nome\": \"Social Network Webbing\", \"duracao\": \"45-60 min\", \"proposito\": \"Mapeie conexões informais e decida como fortalecer a rede para alcançar um propósito\", \"label\": \"Ajuda, Disseminar\"},\n",
        "    { \"nome\": \"Design Storyboards\", \"duracao\": \"25-70 min\", \"proposito\": \"Defina os elementos passo-a-passo para conduzir reuniões a finais produtivos\", \"label\": \"Planejar\"},\n",
        "    { \"nome\": \"Open Space\", \"duracao\": \"90 min. to 3 days\", \"proposito\": \"Libere a ação e liderança inerentes a grupos de qualquer tamanho\", \"label\": \"Revelar\"},\n",
        "    { \"nome\": \"Discovery & Action Dialogue\", \"duracao\": \"25-70 min\", \"proposito\": \"Descubra, invente e desencadeie soluções locais para problemas crônicos\", \"label\": \"Revelar\"},\n",
        "    { \"nome\": \"Integrated Autonomy\", \"duracao\": \"60-80 min\", \"proposito\": \"Mude de soluções 'ou-um-ou-outro' para robustas soluções 'ambos-e'\", \"label\": \"Estratégia\"},\n",
        "    { \"nome\": \"Generative Relationships\", \"duracao\": \"25 min\", \"proposito\": \"Revele padrões de relacionamento que criam surpreendente valor ou disfunções\", \"label\": \"Análise\"},\n",
        "    { \"nome\": \"Critical Uncertainties\", \"duracao\": \"60-100 min\", \"proposito\": \"Desenvolva estratégias para operar em uma variedade de futuros plausíveis porém imprevisíveis\", \"label\": \"Estratégia\"},\n",
        "    { \"nome\": \"Purpose-to-Practice\", \"duracao\": \"25-120 min\", \"proposito\": \"Desenhe os cinco elementos essenciais para uma iniciativa resiliente e duradoura\", \"label\": \"Planejar\"},\n",
        "    { \"nome\": \"Ecocycle Planning\", \"duracao\": \"60-95 min\", \"proposito\": \"Analise o portfólio completo de atividades e relacionamentos para identificar obstáculos e oportunidades para o progresso\", \"label\": \"Análise, Estratégia\"},\n",
        "    { \"nome\": \"Panarchy\", \"duracao\": \"1-2 hr\", \"proposito\": \"Entenda como sistemas interconectados interagem, evoluem, disseminam inovação e transformam\", \"label\": \"Estratégia\"},\n",
        "    { \"nome\": \"What I Need From You\", \"duracao\": \"45-70 min\", \"proposito\": \"Faça emergir as necessidades essenciais entre áreas e aceite ou rejeite pedidos de suporte\", \"label\": \"Ajuda\"},\n",
        "    { \"nome\": \"Celebrity Interview\", \"duracao\": \"25-60 min\", \"proposito\": \"Reconectar a experiência de líderes e especialistas com pessoas mais próximas do desafio em mãos\", \"label\": \"Disseminar\"},\n",
        "    { \"nome\": \"Helping Heuristics\", \"duracao\": \"15 min\", \"proposito\": \"Pratique métodos progressivos para ajudar os outros, receber ajuda e pedir ajuda\", \"label\": \"Ajuda\"},\n",
        "    { \"nome\": \"Simple Ethnography\", \"duracao\": \"1-6 hr\", \"proposito\": \"Observe e registre os comportamentos reais dos usuários em campo\", \"label\": \"Análise, Revelar\"}\n",
        "]\n",
        "\n",
        "solucoes = [\n",
        "    {\"solucao\": \"Revelar, gerar aprimorar idéias ou soluções\"},\n",
        "    {\"solucao\": \"Compartilhar ou disseminar idéias, conhecimentos ou experiências\"},\n",
        "    {\"solucao\": \"Analisar, diagnosticar ou processar\"},\n",
        "    {\"solucao\": \"Pedir ou oferecer ajuda\"},\n",
        "    {\"solucao\": \"Elaborar estratégias\"},\n",
        "    {\"solucao\": \"Planejar\"}\n",
        "]"
      ],
      "metadata": {
        "id": "LhOuJwEfLNgv"
      },
      "execution_count": 5,
      "outputs": []
    },
    {
      "cell_type": "code",
      "source": [
        "df = pd.DataFrame(estruturas)\n",
        "df.columns = ['nome', 'duracao', 'proposito', 'label']\n",
        "\n",
        "df_solucoes = pd.DataFrame(solucoes)\n",
        "df_solucoes.columns = ['solucao']"
      ],
      "metadata": {
        "id": "a6NXpp_WQTS_"
      },
      "execution_count": null,
      "outputs": []
    },
    {
      "cell_type": "code",
      "source": [
        "# FAzer um dataframe pra solucoes, (DONE)\n",
        "# fazer uma funcao para adicionar embeds no df de solucoes (DONE)\n",
        "# fazer uma funcao para verificar se o embed da solucao, tem alguma relacao com a lista de estruturas (DONE, mas pode melhorar)\n",
        "# atualizar a funcao de consutla principal para identificar solucao(oes) compativeis com o contexto fornecido pelo usuário <input> (DONE, mas pode melhorar)"
      ],
      "metadata": {
        "id": "zFnNPWUMrXDV"
      },
      "execution_count": null,
      "outputs": []
    },
    {
      "cell_type": "code",
      "source": [
        "# Inicializando o modelo\n",
        "model = \"models/embedding-001\""
      ],
      "metadata": {
        "id": "5HJkgKzsSOex"
      },
      "execution_count": 8,
      "outputs": []
    },
    {
      "cell_type": "code",
      "source": [
        "# Função para adicionar colunas de Embeds no DF Estruturas, conteudo principal titulo e descricao\n",
        "def addEmbeddings(nome, proposito):\n",
        "  return genai.embed_content(model=model, content=proposito, title=nome, task_type=\"RETRIEVAL_DOCUMENT\")[\"embedding\"]\n",
        "\n",
        "# Adicionando Embeddings no DataFrame\n",
        "df[\"Embeddings\"] = df.apply(lambda row: addEmbeddings(row[\"nome\"], row[\"proposito\"]), axis=1)"
      ],
      "metadata": {
        "id": "KSpVTvukSbre"
      },
      "execution_count": 13,
      "outputs": []
    },
    {
      "cell_type": "code",
      "source": [
        "# Função para adicionar uma coluna de Embeddings para Label\n",
        "def addLabelEmbeddings(label):\n",
        "  return genai.embed_content(model=model, content=label, task_type=\"RETRIEVAL_DOCUMENT\")[\"embedding\"]\n",
        "\n",
        "# Adicionando nova coluna de Embeddings para Label\n",
        "df[\"LabelEmbeddings\"] = df.apply(lambda row: addLabelEmbeddings(row[\"label\"]), axis=1)"
      ],
      "metadata": {
        "id": "_m0yv8OUQimJ"
      },
      "execution_count": 14,
      "outputs": []
    },
    {
      "cell_type": "code",
      "source": [
        "# Função para adicionar colunas embeddings no DF de Solucoes\n",
        "def addSolucaoEmbeddings(solucao):\n",
        "  return genai.embed_content(model=model, content=solucao, task_type=\"RETRIEVAL_DOCUMENT\")[\"embedding\"]\n",
        "\n",
        "df_solucoes[\"Embeddings\"] = df_solucoes.apply(lambda row: addSolucaoEmbeddings(row[\"solucao\"]), axis=1)\n",
        "\n",
        "df_solucoes"
      ],
      "metadata": {
        "id": "JBduiZnOR8CA"
      },
      "execution_count": null,
      "outputs": []
    },
    {
      "cell_type": "code",
      "source": [
        "# Função para verificar consulta tem relação com alguma dos itens do DF solução\n",
        "def buscar_solucao_consulta(consulta, base, model):\n",
        "  embedding_da_consulta = genai.embed_content(model=model, content=consulta, task_type=\"RETRIEVAL_QUERY\")[\"embedding\"]\n",
        "  produtos_escalares = np.dot(np.stack(base['Embeddings']), embedding_da_consulta)\n",
        "  indice = np.argmax(produtos_escalares)\n",
        "  return base.iloc[indice]['solucao']"
      ],
      "metadata": {
        "id": "W_WPt6SdUG00"
      },
      "execution_count": 17,
      "outputs": []
    },
    {
      "cell_type": "code",
      "source": [
        "# Função para gerar e buscar e consultar\n",
        "def gerar_e_buscar_consulta(consulta, base, model):\n",
        "  embedding_da_consulta = genai.embed_content(model=model, content=consulta, task_type=\"RETRIEVAL_QUERY\")[\"embedding\"]\n",
        "\n",
        "  produtos_escalares = np.dot(np.stack(df['LabelEmbeddings']), embedding_da_consulta)\n",
        "\n",
        "  limite_relevancia = 0.6 # Definindo o limite da relevancia\n",
        "  indices_relevantes = np.where(produtos_escalares >= limite_relevancia)[0]\n",
        "\n",
        "  resultados_relevantes = []\n",
        "  for indice in indices_relevantes:\n",
        "    resultados_relevantes.append(df.iloc[indice]['nome'])\n",
        "\n",
        "  top3_resultados_relevantes = []\n",
        "  top3 = 0\n",
        "  if resultados_relevantes:\n",
        "    while top3 < 3:\n",
        "      # Exibe a primeira posicao de resultados_relevante\n",
        "      top3_resultados_relevantes.append(resultados_relevantes[top3])\n",
        "      top3 += 1\n",
        "    return top3_resultados_relevantes # Exibe uma lista de resultados relevantes\n",
        "  else:\n",
        "    indice = np.argmax(produtos_escalares)\n",
        "    return df.iloc[indice]['nome'] # garante que ao menos 1 resultado seja exibido"
      ],
      "metadata": {
        "id": "Clyg4_pBU4jX"
      },
      "execution_count": 28,
      "outputs": []
    },
    {
      "cell_type": "code",
      "source": [
        "def busca (prompt):\n",
        "  solucao_relacionada = buscar_solucao_consulta(prompt, df_solucoes, model)\n",
        "  estruturas_recomendadas = gerar_e_buscar_consulta(prompt, df, model)\n",
        "\n",
        "  estruturas_recomendadas = ', '.join(estruturas_recomendadas)\n",
        "  resposta = \"Para o prompt: \" + prompt + \"\\n\" + \"Solução identificada: \" + solucao_relacionada + \"\\n\" + \"Estruturas recomendadas: \" + estruturas_recomendadas + \"\\n\"\n",
        "\n",
        "  return resposta\n",
        "\n",
        "# Testando consultas baseadas em contextos\n",
        "consulta1 = \"Um time que precisa formular novas idéias para construção do seu roadmap\"\n",
        "consulta2 = \"Um time está com dificuldade para encontrar o real motivo dos principais problemas a sua produtividade\"\n",
        "consulta3 = \"O time precisa melhorar as relações entre seus integrantes\"\n",
        "\n",
        "print(busca(consulta1))\n",
        "print(busca(consulta2))\n",
        "print(busca(consulta3))"
      ],
      "metadata": {
        "colab": {
          "base_uri": "https://localhost:8080/",
          "height": 236
        },
        "id": "L4_0aEjNWLI7",
        "outputId": "40d07156-996b-4b64-8c6d-0b256ea1e819"
      },
      "execution_count": 41,
      "outputs": [
        {
          "output_type": "stream",
          "name": "stdout",
          "text": [
            "Para o prompt: Um time que precisa formular novas idéias para construção do seu roadmap\n",
            "Solução identificada: Revelar, gerar aprimorar idéias ou soluções\n",
            "Estruturas recomendadas: Min Specs, Social Network Webbing, Integrated Autonomy\n",
            "\n",
            "Para o prompt: Um time está com dificuldade para encontrar o real motivo dos principais problemas a sua produtividade\n",
            "Solução identificada: Pedir ou oferecer ajuda\n",
            "Estruturas recomendadas: Agreement-Certainty Matrix, Generative Relationships, Ecocycle Planning\n",
            "\n",
            "Para o prompt: O time precisa melhorar as relações entre seus integrantes\n",
            "Solução identificada: Revelar, gerar aprimorar idéias ou soluções\n",
            "Estruturas recomendadas: Appreciative Interviews, Ecocycle Planning, Simple Ethnography\n",
            "\n"
          ]
        }
      ]
    },
    {
      "cell_type": "markdown",
      "source": [
        "# Geração de um Roteiro 📓\n",
        "## Partes de um roteiro\n",
        "* Abertura\n",
        "* Geração de idéias e Reflexão\n",
        "* Fechamento (ações)\n",
        "\n",
        "### Abertura: Quais as ELs mais indicadas? ⚡\n",
        "\n",
        "*Premissas:*\n",
        "* As com duração < 15 min\n",
        "* Revelar, Disseminar\n",
        "\n",
        "ELs com duração de até 15 min:\n",
        "* 1-2-4-All\n",
        "* Impromptu Networking\n",
        "* Wise Crowds\n",
        "\n",
        "### Geração de idéias e Reflexão: Quais as ELs mais indicadas? ⚡\n",
        "\n",
        "*Premissas:*\n",
        "* Refletir, Analisar, Processamento, Revelar\n",
        "\n",
        "ELs com duração de até 15 min:\n",
        "* Shift and Share\n",
        "\n",
        "\n",
        "### Fechamento: Quais as ELs mais indicadas? ⚡\n",
        "\n",
        "*Premissas:*\n",
        "* Revelar, disseminar, elaborar estratégias, planejar\n",
        "\n",
        "ELs recomendadas:\n",
        "* 15% Solutions\n",
        "* Min Specs\n",
        "* Conversation Café\n",
        "\n",
        "\n",
        "\n",
        "\n",
        "\n",
        "\n",
        "---\n",
        "* 1-2-4-All\n",
        "* 15% Solutions\n",
        "* Helping Heuristics\n",
        "* Impromptu Networking\n",
        "* Improv Prototyping\n",
        "* Nine Whys\n",
        "* Wise Crowds"
      ],
      "metadata": {
        "id": "6X7DNjMEc-o-"
      }
    },
    {
      "cell_type": "code",
      "source": [
        "# Preparando e instanciando o modo generativo para respostas\n",
        "model_generative_config = {\n",
        "    \"temperature\": 2,\n",
        "    \"candidate_count\": 1,\n",
        "    \"top_p\": 0.95,\n",
        "    \"top_k\": 0,\n",
        "    \"max_output_tokens\": 8192,\n",
        "}\n",
        "\n",
        "model_generative_safety_settings = [\n",
        "  {\n",
        "    \"category\": \"HARM_CATEGORY_HARASSMENT\",\n",
        "    \"threshold\": \"BLOCK_MEDIUM_AND_ABOVE\"\n",
        "  },\n",
        "  {\n",
        "    \"category\": \"HARM_CATEGORY_HATE_SPEECH\",\n",
        "    \"threshold\": \"BLOCK_MEDIUM_AND_ABOVE\"\n",
        "  },\n",
        "  {\n",
        "    \"category\": \"HARM_CATEGORY_SEXUALLY_EXPLICIT\",\n",
        "    \"threshold\": \"BLOCK_MEDIUM_AND_ABOVE\"\n",
        "  },\n",
        "  {\n",
        "    \"category\": \"HARM_CATEGORY_DANGEROUS_CONTENT\",\n",
        "    \"threshold\": \"BLOCK_MEDIUM_AND_ABOVE\"\n",
        "  },\n",
        "]\n",
        "\n",
        "system_instruction = \"Seu nome é Lisa. Uma assistente virtual, com habilidades de um Coach profissional e experiente facilitadora de reuniões e atividades presenciais ou online com amplo conhecimento de aplicação de Estruturas Libertadoras\"\n",
        "\n",
        "model_generative = genai.GenerativeModel(\"gemini-1.5-pro-latest\",\n",
        "                                         generation_config=model_generative_config,\n",
        "                                         system_instruction=system_instruction,\n",
        "                                         safety_settings=model_generative_safety_settings)"
      ],
      "metadata": {
        "id": "VJ3vYflKW9aB"
      },
      "execution_count": 36,
      "outputs": []
    },
    {
      "cell_type": "code",
      "source": [
        "chat = model_generative.start_chat(history=[\n",
        "    {\n",
        "      \"role\": \"user\",\n",
        "      \"parts\": [\"Se apresente.\"]\n",
        "    },\n",
        "])"
      ],
      "metadata": {
        "id": "AaZHh2Z0bUom"
      },
      "execution_count": 39,
      "outputs": []
    },
    {
      "cell_type": "code",
      "source": [
        "# Teste de iteração\n",
        "chat.send_message(\"Se apresente\")\n",
        "print(chat.last.text)"
      ],
      "metadata": {
        "colab": {
          "base_uri": "https://localhost:8080/",
          "height": 200
        },
        "id": "ixwXHS4Xcah9",
        "outputId": "467f7377-58e3-4e3c-e102-9d035979c8bd"
      },
      "execution_count": 41,
      "outputs": [
        {
          "output_type": "stream",
          "name": "stdout",
          "text": [
            "Olá! 👋 Eu sou Lisa, sua assistente virtual. \n",
            "\n",
            "Pense em mim como um coach profissional, sempre pronta para te ajudar a alcançar seus objetivos, trabalhando lado a lado com você.  \n",
            "\n",
            "Sou também uma facilitadora experiente, capaz de conduzir reuniões e atividades, tanto presenciais quanto online, de forma envolvente e produtiva, sempre buscando o melhor resultado para todos.\n",
            "\n",
            "Meu diferencial? Domino as Estruturas Libertadoras, uma metodologia inovadora que estimula a criatividade, colaboração e engajamento em grupos, tornando o trabalho mais leve e eficaz. \n",
            "\n",
            "O que posso fazer por você hoje? 😊 \n",
            "\n"
          ]
        }
      ]
    },
    {
      "cell_type": "code",
      "source": [
        "# Prompting\n",
        "\n",
        "prompt = f\"Crie um roteiro usando a Estrutura Libertadora {trecho} para o contexto\"\n",
        "\n",
        "prompt\n",
        "\n",
        "# response = model_generative.generate_content(prompt)\n",
        "# print(response.text)"
      ],
      "metadata": {
        "colab": {
          "base_uri": "https://localhost:8080/",
          "height": 36
        },
        "id": "vHJKNsEWYN2O",
        "outputId": "a1bcbbe1-5652-4184-c892-89852bfb3382"
      },
      "execution_count": 29,
      "outputs": [
        {
          "output_type": "execute_result",
          "data": {
            "text/plain": [
              "'Crie um roteiro usando a Estrutura Libertadora Appreciative Interviews para o contexto'"
            ],
            "application/vnd.google.colaboratory.intrinsic+json": {
              "type": "string"
            }
          },
          "metadata": {},
          "execution_count": 29
        }
      ]
    },
    {
      "cell_type": "code",
      "source": [
        "# @TODO\n",
        "# O usuário deve fornecer um contexto\n",
        "# LISA precisa identificar, dentro do contexto quais sequencias fazem sentido. (WIP)\n",
        "# Montar e exibir um Roteiro com a estrutura: Título do Roteiro / Duração (soma do total de atividades min-max) / Abertura / Colhendo dados / Brainstorming de açoes / Fechamento"
      ],
      "metadata": {
        "id": "fpG6QiKrdfe3"
      },
      "execution_count": 62,
      "outputs": []
    },
    {
      "cell_type": "code",
      "source": [
        "contexto1 = \"Tenho um time recém criado que passou por muitas mudanças e seus membros precisam se reconectar uns com os outros\"\n",
        "contexto2 = \"Tenho um time experiente que apesar do bom clima interperssoal não expõem seus problemas de maneira clara e construtiva\"\n",
        "contexto3 = \"Tenho um time experiente que precisa fazer melhorias no seu processo de trabalho para realizar entregas importantes num futuro breve\""
      ],
      "metadata": {
        "id": "CKPsaDACeqmb"
      },
      "execution_count": 45,
      "outputs": []
    },
    {
      "cell_type": "code",
      "source": [],
      "metadata": {
        "id": "KWXs1AB-dl2c"
      },
      "execution_count": null,
      "outputs": []
    }
  ]
}